{
 "cells": [
  {
   "cell_type": "code",
   "execution_count": null,
   "metadata": {},
   "outputs": [],
   "source": [
    "###################################\n",
    "# -------------------------------- Import necessary modules\n",
    "%run read_redata.ipynb\n",
    "%run eof_func.ipynb\n",
    "import matplotlib\n",
    "import matplotlib.pyplot as plt\n",
    "import numpy as np\n",
    "from mpl_toolkits.basemap import Basemap\n",
    "from scipy import signal\n",
    "import pandas as pd\n",
    "import scipy.stats as ss\n",
    "import seaborn as sns\n",
    "import xesmf as xe\n",
    "import xarray as xr\n",
    "from dateutil.relativedelta import relativedelta\n",
    "###################################\n",
    "%matplotlib inline "
   ]
  },
  {
   "cell_type": "code",
   "execution_count": null,
   "metadata": {},
   "outputs": [],
   "source": [
    "matplotlib.rcParams['font.family'] = 'OpenSans-Regular'"
   ]
  },
  {
   "cell_type": "code",
   "execution_count": null,
   "metadata": {},
   "outputs": [],
   "source": [
    "%matplotlib inline"
   ]
  },
  {
   "cell_type": "markdown",
   "metadata": {},
   "source": [
    "# MERRA-2 "
   ]
  },
  {
   "cell_type": "code",
   "execution_count": null,
   "metadata": {},
   "outputs": [],
   "source": [
    "# Define lat-lon subset\n",
    "subset = [-62.0,-47.0,-35.0,-18.0]\n",
    "# Set top directory of data location\n",
    "topdir_merra = '/glade/work/cab478/MERRA/day/'\n",
    "\n",
    "#Get SM data at the monthly timescale\n",
    "SM    = get_redata_time_avg('MERRA-2',topdir_merra + 'MERRA_daily_avg_SM_1980_2016.nc','GWETROOT', subset=subset)\n",
    "\n",
    "#Get pcp data at the monthly timescale\n",
    "pcp   = get_redata_time_avg('MERRA-2',topdir_merra + 'MERRA_daily_avg_pcp_1980_2016.nc','PRECTOTCORR', subset=subset)\n",
    "\n",
    "#Get LH data at the monthly timescale\n",
    "LH    = get_redata_time_avg('MERRA-2',topdir_merra + 'MERRA_daily_avg_LH_SH_1980_2016.nc','LHLAND', subset=subset)\n",
    "\n",
    "#Get SH data at the monthly timescale\n",
    "SH    = get_redata_time_avg('MERRA-2',topdir_merra + 'MERRA_daily_avg_LH_SH_1980_2016.nc','SHLAND', subset=subset)"
   ]
  },
  {
   "cell_type": "code",
   "execution_count": null,
   "metadata": {},
   "outputs": [],
   "source": [
    "do_eof(SM, pcp,'monthly', 1980, 37, filename = 'meof_merra2_', merra2 = True, LH = LH, SH = SH, opp=True)"
   ]
  },
  {
   "cell_type": "markdown",
   "metadata": {},
   "source": [
    "# ERA5"
   ]
  },
  {
   "cell_type": "code",
   "execution_count": null,
   "metadata": {},
   "outputs": [],
   "source": [
    "# Define lat-lon subset\n",
    "subset = [298.0,313.0,-35.0,-18.0]\n",
    "# Set top directory of data location\n",
    "topdir_era5 = '/glade/work/cab478/era5/'\n",
    "\n",
    "#Get pcp data at the monthly timescale\n",
    "pcp = get_redata_time_avg('ERA5',topdir_era5 + 'era5_precip_1980_2016.nc','tp', subset)\n",
    "#Get SM data at the monthly timescale\n",
    "SM  = get_redata_time_avg('ERA5',topdir_era5 + 'era5_sm_1980_2016.nc','swvl', subset)"
   ]
  },
  {
   "cell_type": "code",
   "execution_count": null,
   "metadata": {},
   "outputs": [],
   "source": [
    "do_eof(T2M, SM, pcp, 'monthly', 1980, 37, filename = 'meof_era5_', merra2 = False, ancillary = False, opp=True)"
   ]
  }
 ],
 "metadata": {
  "kernelspec": {
   "display_name": "Python 3",
   "language": "python",
   "name": "python3"
  },
  "language_info": {
   "codemirror_mode": {
    "name": "ipython",
    "version": 3
   },
   "file_extension": ".py",
   "mimetype": "text/x-python",
   "name": "python",
   "nbconvert_exporter": "python",
   "pygments_lexer": "ipython3",
   "version": "3.7.5"
  }
 },
 "nbformat": 4,
 "nbformat_minor": 4
}
