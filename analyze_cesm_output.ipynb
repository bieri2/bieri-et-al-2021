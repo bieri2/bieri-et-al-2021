{
 "cells": [
  {
   "cell_type": "code",
   "execution_count": null,
   "metadata": {},
   "outputs": [],
   "source": [
    "import numpy as np\n",
    "import xarray as xr \n",
    "import seaborn as sns\n",
    "import pandas as pd\n",
    "import datetime\n",
    "from netCDF4 import Dataset\n",
    "import Nio\n",
    "import Ngl\n",
    "import matplotlib.pyplot as plt\n",
    "import matplotlib\n",
    "from mpl_toolkits.basemap import Basemap\n",
    "import matplotlib.ticker as ticker\n",
    "from matplotlib.patches import Polygon\n",
    "from matplotlib.ticker import FormatStrFormatter"
   ]
  },
  {
   "cell_type": "markdown",
   "metadata": {},
   "source": [
    "# Define helper functions"
   ]
  },
  {
   "cell_type": "code",
   "execution_count": null,
   "metadata": {},
   "outputs": [],
   "source": [
    "# Define function to draw polygons on map\n",
    "def draw_screen_poly(lats, lons, m):\n",
    "    x, y = m(lons, lats)\n",
    "    xy = zip(x,y)\n",
    "    poly = Polygon(list(xy), fill=False, edgecolor='black',lw=3, alpha=0.5, linestyle='--')\n",
    "    plt.gca().add_patch(poly)"
   ]
  },
  {
   "cell_type": "code",
   "execution_count": null,
   "metadata": {},
   "outputs": [],
   "source": [
    "# Function to check if month is in November or December\n",
    "def is_nd(month):\n",
    "    return (month == 11) | (month == 12) "
   ]
  },
  {
   "cell_type": "code",
   "execution_count": null,
   "metadata": {},
   "outputs": [],
   "source": [
    "def read_cesm(filename, variable, subset=[288.0,320.0,-40.0,-10.0], plev=[850.],vinterp=False, SM=False, chop=True):\n",
    "    \"\"\"\n",
    "    Function to read in CESM data and apply necessary processing steps.\n",
    "    \n",
    "    If a vertical variable (such as geopotential height) is being read, vertical interpolation is applied. Data are interpolated \n",
    "    to the levels defined by plev. \n",
    "    \n",
    "    If soil moisture is being read, a weighted average is applied to get the root-zone average soil moisture.\n",
    "    \n",
    "    Parameters:\n",
    "    -filename: String. Name of file to be read. Should be a NetCDF (.nc) file. \n",
    "    -variable: String. Refers to the desired CESM variable.\n",
    "    -subset: List of floats. Format is [lon1, lon2, lat1, lat2]. Refers to the desired spatial domain to be extracted.\n",
    "    -plev: Float. Vertical level(s) to which data should be interpolated - MUST BE IN MB.\n",
    "    -vinterp: True or False. Should be set to True whenever vertical interpolation from model to pressure levels is necessary.\n",
    "    -SM: True or False. Should be set to True if this function is being used to read in soil moisture data.\n",
    "    -chop: True or False. If True, exclude the first time step from the file being read.\n",
    "    \n",
    "    Returns:\n",
    "    An xarray DataArray with the data read from the file.  \n",
    "    \n",
    "    Author: Carolina Bieri (bieri2@illinois.edu)\n",
    "    \"\"\"\n",
    "    print('Reading ' + filename)\n",
    "    \n",
    "    # Set reference pressure in mb\n",
    "    P0 = 1000.\n",
    "    \n",
    "    # Open file containing desired variable; subset by lats and lons\n",
    "    ds_var = xr.open_dataset(filename, chunks={}).sel(lat = slice(subset[2],subset[3]), lon = slice(subset[0],subset[1]))\n",
    "  \n",
    "    # Set time array as coordinate\n",
    "    ds_var = ds_var.assign_coords(time = xr.CFTimeIndex(ds_var['time'].values).to_datetimeindex())\n",
    "        \n",
    "    # Remove the first day of output if necessary - some files already have the first day excluded\n",
    "    # Must do this because the first day isn't really output\n",
    "    if chop:\n",
    "        if vinterp:\n",
    "            # Read in surface pressure if vertical interpolation is necessary\n",
    "            PS = ds_var['PS'].sel(time = slice('1979-01-02','2004-01-01'))\n",
    "        \n",
    "        ds_var = ds_var[variable].sel(time = slice('1979-01-02','2004-01-01'))\n",
    "    else:\n",
    "        ds_var = ds_var[variable]\n",
    "    \n",
    "    # CESM output files are written so that the corresponding timestep for daily output represents output\n",
    "    # for the day before, so correct the time coordinate to reflect this\n",
    "    ds_var['time'] = ds_var['time'] - pd.Timedelta(days = 1)\n",
    "\n",
    "    # Perform vertical interpolation if necessary\n",
    "    if vinterp:\n",
    "        # Define coefficients necessary to perform vertical interpolation\n",
    "        hyam = np.asarray([0.00364346569404006, 0.00759481964632869, 0.0143566322512925, \n",
    "                            0.0246122200042009, 0.0359232500195503, 0.0431937500834465, \n",
    "                            0.0516774989664555, 0.0615204982459545, 0.0737509578466415, \n",
    "                            0.0878212302923203, 0.103317126631737, 0.121547240763903, \n",
    "                            0.142994038760662, 0.168225079774857, 0.178230673074722, \n",
    "                            0.170324325561523, 0.161022908985615, 0.150080285966396, \n",
    "                            0.137206859886646, 0.122061938047409, 0.104244712740183, \n",
    "                            0.0849791541695595, 0.0665016956627369, 0.0501967892050743, \n",
    "                            0.037188658490777, 0.028431948274374, 0.0222089774906635, \n",
    "                            0.016407382208854, 0.0110745579004288, 0.00625495356507599, \n",
    "                            0.00198940909467638, 0])\n",
    "        hybm = np.asarray([0, 0, 0, 0, 0, 0, 0, 0, 0, 0, 0, 0, 0, 0, 0.0196774136275053, \n",
    "                            0.062504293397069, 0.112887907773256, 0.172161616384983, \n",
    "                            0.241894043982029, 0.323930636048317, 0.420442461967468, \n",
    "                            0.524799540638924, 0.624887734651566, 0.713207691907883, \n",
    "                            0.783669710159302, 0.831102818250656, 0.864811271429062, \n",
    "                            0.896237164735794, 0.92512384057045, 0.951230525970459, \n",
    "                            0.974335998296738, 0.992556095123291])\n",
    "    \n",
    "        # Perform vertical interpolation to desired pressure level(s)\n",
    "        var_interp = Ngl.vinth2p(ds_var.values,hyam,hybm,np.asarray([plev]),PS.values,1,P0,1,False)\n",
    "        \n",
    "        if np.size(plev)==1:\n",
    "            # Get rid of degenerate dimension if only interpolating to one level\n",
    "            out = np.squeeze(var_interp[:,0,:,:])\n",
    "        \n",
    "            # Create Data Array to hold interpolated data\n",
    "            out = xr.DataArray(out, coords={'time': ds_var['time'],'lat': ds_var['lat'], \n",
    "                                            'lon' : ds_var['lon']}, dims = ['time','lat','lon'])\n",
    "        else:\n",
    "            # Do this if interpolating to multiple levels\n",
    "            out = xr.DataArray(var_interp, coords={'time': ds_var['time'],'lev': plev, 'lat': ds_var['lat'], \n",
    "                                                   'lon' : ds_var['lon']}, dims = ['time','lev','lat','lon'])\n",
    "            \n",
    "    # Process for extracting soil moisture data\n",
    "    elif SM:\n",
    "        # Read in SM data - first 8 layers (root zone)\n",
    "        ds_var = ds_var[:,:8,:,:]\n",
    "        \n",
    "        # Create masked array before computing weighted average \n",
    "        masked_var = np.ma.masked_array(ds_var, np.isnan(ds_var))                \n",
    "        \n",
    "        # Define array of CLM soil layer thicknesses up to layer 8\n",
    "        thick   = np.array([0.02,0.04,0.06,0.08,0.12,0.16,0.2,0.24])\n",
    "        # Compute layer thickness weights \n",
    "        wgts    = thick/thick.sum()\n",
    "        # Perform weighted average using weights\n",
    "        wgt_avg = np.ma.average(masked_var,axis=1,weights=wgts)\n",
    "        # Set weighted average SM data as output array\n",
    "        out     = wgt_avg.filled(np.NaN)\n",
    "        \n",
    "        # Create DataArray\n",
    "        out = xr.DataArray(out, coords={'time': ds_var['time'],'lat': ds_var['lat'], \n",
    "                                        'lon' : ds_var['lon']}, dims = ['time','lat','lon'])\n",
    "        \n",
    "    # Do this in all other cases\n",
    "    else:\n",
    "        out = ds_var\n",
    "    \n",
    "\n",
    "    return out"
   ]
  },
  {
   "cell_type": "code",
   "execution_count": null,
   "metadata": {},
   "outputs": [],
   "source": [
    "# Helper function to subtract experiment from control and calculate monthly means\n",
    "def means_and_diff(control, exp):\n",
    "    \n",
    "    # Resample data to monthly means from daily data\n",
    "    control  = control.resample(time='M').mean(dim='time')\n",
    "    exp      = exp.resample(time='M').mean(dim='time')\n",
    "    \n",
    "    # Get difference between experiment and control\n",
    "    diff     = exp - control\n",
    "    \n",
    "    # Select differences for each month\n",
    "    diff_oct = diff.sel(time=diff.time.dt.month==10)\n",
    "    diff_nov = diff.sel(time=diff.time.dt.month==11)\n",
    "    diff_dec = diff.sel(time=diff.time.dt.month==12)\n",
    "    \n",
    "    # Get means of differences for each month\n",
    "    diff_comp_oct = diff_oct.mean(dim='time')\n",
    "    diff_comp_nov = diff_nov.mean(dim='time')\n",
    "    diff_comp_dec = diff_dec.mean(dim='time')\n",
    "    \n",
    "    return [diff_comp_oct, diff_comp_nov, diff_comp_dec]"
   ]
  },
  {
   "cell_type": "code",
   "execution_count": null,
   "metadata": {},
   "outputs": [],
   "source": [
    "# Helper function to calculate fractional change between experiment and control\n",
    "def calc_fracchng(change, control, subset=[298.0,313.0,-34.0,-19.0]):\n",
    "    # Calculate fractional change\n",
    "    frac_chng = change/control\n",
    "    # Select within box\n",
    "    frac_chng = frac_chng.sel(lat = slice(subset[2],subset[3]), lon = slice(subset[0],subset[1]))\n",
    "    # Calculate mean\n",
    "    frac_chng = frac_chng.mean()\n",
    "    \n",
    "    return frac_chng"
   ]
  },
  {
   "cell_type": "code",
   "execution_count": null,
   "metadata": {},
   "outputs": [],
   "source": [
    "Open_Sans()\n",
    "\n",
    "# Helper function to plot output\n",
    "def plot_cesm(data, lat, lon, vmin, vmax, interval, ticks, cblabel, month, cmap, outfile, winds=False, U=None, V=None, plotnan=False):\n",
    "    \n",
    "    %matplotlib inline\n",
    "    \n",
    "    # Define lats and lons for box overlay\n",
    "    lats_draw = [ -33.3, -18.3, -18.3, -33.3]\n",
    "    lons_draw = [ 298.7, 298.7, 313.7, 313.7]\n",
    "    \n",
    "    fig = plt.figure(figsize=(10,10))\n",
    "\n",
    "    map = Basemap(resolution='l', projection='cyl', llcrnrlon=min(lon), urcrnrlon=max(lon), \n",
    "                  llcrnrlat=min(lat), urcrnrlat=max(lat), lat_0=0, lon_0=0)\n",
    "\n",
    "    # Define discrete colormap bins\n",
    "    bins = np.arange(vmin,vmax+interval,interval)\n",
    "        \n",
    "    lon_plt, lat_plt = np.meshgrid(np.asarray(lon), np.asarray(lat))\n",
    "    \n",
    "    xi, yi = map(np.asarray(lon_plt), np.asarray(lat_plt))\n",
    "\n",
    "    fill = map.contourf(xi, yi, data, vmin=vmin, vmax=vmax, levels=bins, cmap=cmap, extend='both')\n",
    "\n",
    "    # Optionally plot winds\n",
    "    if winds:\n",
    "        plt.quiver(xi, yi, U, V, color='black',zorder=10, scale=30, headlength=3.0, headaxislength=3.0)\n",
    "    \n",
    "    # Optionally plot locations of masked NaN values\n",
    "    if plotnan:\n",
    "        wherenan = np.nonzero(np.isnan(data.values))\n",
    "        xi_wherenan = xi[wherenan]\n",
    "        yi_wherenan = yi[wherenan]\n",
    "        plt.scatter(xi_wherenan+0.5,yi_wherenan+0.5,s=70,marker='x',color='black',alpha=0.5)\n",
    "\n",
    "    map.drawcoastlines()\n",
    "    map.drawcountries()\n",
    "\n",
    "    cb = fig.colorbar(fill, orientation='horizontal', pad=0.05, ticks=ticks)\n",
    "    cb.ax.tick_params(labelsize=26)\n",
    "    cb.set_label(label=cblabel, size=26)\n",
    "\n",
    "    # Draw box\n",
    "    draw_screen_poly(lats_draw, lons_draw, map)\n",
    "    \n",
    "    plt.title(month, size=30)\n",
    "\n",
    "    # Save plot\n",
    "    plt.savefig(outfile + '.png', dpi=200)\n",
    "    plt.show()"
   ]
  },
  {
   "cell_type": "code",
   "execution_count": null,
   "metadata": {},
   "outputs": [],
   "source": [
    "%matplotlib inline\n",
    "sns.set_style('ticks')"
   ]
  },
  {
   "cell_type": "markdown",
   "metadata": {},
   "source": [
    "# Plot precipitation results"
   ]
  },
  {
   "cell_type": "code",
   "execution_count": null,
   "metadata": {},
   "outputs": [],
   "source": [
    "# Define top level directory for CESM file locations\n",
    "top_dir = '/glade/campaign/univ/uiuc0017/bieri/'"
   ]
  },
  {
   "cell_type": "code",
   "execution_count": null,
   "metadata": {},
   "outputs": [],
   "source": [
    "# Read precip data from control simulation\n",
    "pcp_control_c = read_cesm(top_dir + 'FHIST_SP_control/atm/hist/FHIST_SP_control.cam.h0.1979-2003.nc', 'PRECC')\n",
    "pcp_control_l = read_cesm(top_dir + 'FHIST_SP_control/atm/hist/FHIST_SP_control.cam.h0.1979-2003.nc', 'PRECL')"
   ]
  },
  {
   "cell_type": "code",
   "execution_count": null,
   "metadata": {},
   "outputs": [],
   "source": [
    "# Read precip data from dry experiment\n",
    "pcp_dry_c     = read_cesm(top_dir + 'FHIST_SP_dry/atm/hist/FHIST_SP_dry.cam.h0.1979-2003.nc', 'PRECC')\n",
    "pcp_dry_l     = read_cesm(top_dir + 'FHIST_SP_dry/atm/hist/FHIST_SP_dry.cam.h0.1979-2003.nc', 'PRECL')"
   ]
  },
  {
   "cell_type": "code",
   "execution_count": null,
   "metadata": {},
   "outputs": [],
   "source": [
    "# Get total precip (convective + non-convective)\n",
    "pcp_control_tot = pcp_control_c + pcp_control_l\n",
    "pcp_dry_tot     = pcp_dry_c     + pcp_dry_l"
   ]
  },
  {
   "cell_type": "code",
   "execution_count": null,
   "metadata": {},
   "outputs": [],
   "source": [
    "# Convert to mm/day\n",
    "pcp_control_tot = pcp_control_tot*1000*86400\n",
    "pcp_dry_tot     = pcp_dry_tot*1000*86400"
   ]
  },
  {
   "cell_type": "code",
   "execution_count": null,
   "metadata": {},
   "outputs": [],
   "source": [
    "# Take monthly means and subtract control from experiment\n",
    "pcp_diff_oct, pcp_diff_nov, pcp_diff_dec = means_and_diff(pcp_control_tot, pcp_dry_tot)"
   ]
  },
  {
   "cell_type": "code",
   "execution_count": null,
   "metadata": {},
   "outputs": [],
   "source": [
    "# Select control data for November and take mean over all years\n",
    "pcp_control_tot_nov = pcp_control_tot.sel(time=pcp_control_tot.time.dt.month==11)\n",
    "pcp_control_tot_nov = pcp_control_tot_nov.mean(dim='time')"
   ]
  },
  {
   "cell_type": "code",
   "execution_count": null,
   "metadata": {},
   "outputs": [],
   "source": [
    "# Select control data for December and take mean over all years\n",
    "pcp_control_tot_dec = pcp_control_tot.sel(time=pcp_control_tot.time.dt.month==12)\n",
    "pcp_control_tot_dec = pcp_control_tot_dec.mean(dim='time')"
   ]
  },
  {
   "cell_type": "code",
   "execution_count": null,
   "metadata": {},
   "outputs": [],
   "source": [
    "# Calculate spatially averaged fractional change for Nov within box\n",
    "frac_chng_pcp = calc_fracchng(pcp_diff_nov, pcp_control_tot_nov)"
   ]
  },
  {
   "cell_type": "code",
   "execution_count": null,
   "metadata": {},
   "outputs": [],
   "source": [
    "frac_chng_pcp.values"
   ]
  },
  {
   "cell_type": "code",
   "execution_count": null,
   "metadata": {},
   "outputs": [],
   "source": [
    "# Calculate spatially averaged fractional change for Dec within box\n",
    "ac_chng_pcp_dec = calc_fracchng(pcp_diff_dec, pcp_control_tot_dec)"
   ]
  },
  {
   "cell_type": "code",
   "execution_count": null,
   "metadata": {},
   "outputs": [],
   "source": [
    "frac_chng_pcp_dec.values"
   ]
  },
  {
   "cell_type": "code",
   "execution_count": null,
   "metadata": {},
   "outputs": [],
   "source": [
    "# Plot output\n",
    "plot_cesm(pcp_diff_nov, pcp_diff_nov.coords['lat'],  pcp_diff_nov.coords['lon'], vmin=-2.0, vmax=2.0, interval=0.31, ticks=[-2.0,-1.1,0,1.1,2.0],\n",
    "          cblabel='Precipitation difference (mm/day)', month='NOV', cmap=matplotlib.colors.LinearSegmentedColormap.from_list(\"\", [\"#6c3811\",\"white\",\"#179DC9\"]), outfile='diff_precip_nov')"
   ]
  },
  {
   "cell_type": "code",
   "execution_count": null,
   "metadata": {},
   "outputs": [],
   "source": [
    "plot_cesm(pcp_diff_dec, pcp_diff_dec.coords['lat'], pcp_diff_dec.coords['lon'], vmin=-2.0, vmax=2.0, interval=0.31, ticks=[-2.0,-1.1,0,1.1,2.0],\n",
    "          cblabel='Precipitation difference (mm/day)', month='DEC', cmap=matplotlib.colors.LinearSegmentedColormap.from_list(\"\", [\"#6c3811\",\"white\",\"#179DC9\"]), outfile='diff_precip_dec')"
   ]
  },
  {
   "cell_type": "markdown",
   "metadata": {},
   "source": [
    "# Plot temperature results"
   ]
  },
  {
   "cell_type": "code",
   "execution_count": null,
   "metadata": {},
   "outputs": [],
   "source": [
    "# Read T2M from control and dry output\n",
    "t_control = read_cesm(top_dir + 'FHIST_SP_control/atm/hist/FHIST_SP_control.cam.h0.1979-2003.nc', 'TREFHT')\n",
    "t_dry     = read_cesm(top_dir + 'FHIST_SP_dry/atm/hist/FHIST_SP_dry.cam.h0.1979-2003.nc', 'TREFHT')"
   ]
  },
  {
   "cell_type": "code",
   "execution_count": null,
   "metadata": {},
   "outputs": [],
   "source": [
    "# Get monthly means and subtract control from experiment\n",
    "t_diff_oct, t_diff_nov, t_diff_dec = means_and_diff(t_control, t_dry)"
   ]
  },
  {
   "cell_type": "code",
   "execution_count": null,
   "metadata": {},
   "outputs": [],
   "source": [
    "# Get control data for Nov and take average over all years\n",
    "t_control_nov = t_control.sel(time=t_control.time.dt.month==11)\n",
    "t_control_nov = t_control_nov.mean(dim='time')"
   ]
  },
  {
   "cell_type": "code",
   "execution_count": null,
   "metadata": {},
   "outputs": [],
   "source": [
    "# Get control data for Dec and take average over all years\n",
    "t_control_dec = t_control.sel(time=t_control.time.dt.month==12)\n",
    "t_control_dec = t_control_dec.mean(dim='time')"
   ]
  },
  {
   "cell_type": "code",
   "execution_count": null,
   "metadata": {},
   "outputs": [],
   "source": [
    "# Convert to Celsius\n",
    "t_control_nov = t_control_nov-273.15\n",
    "t_control_dec = t_control_dec-273.15"
   ]
  },
  {
   "cell_type": "code",
   "execution_count": null,
   "metadata": {},
   "outputs": [],
   "source": [
    "# Compute spatially averaged fractional change for Nov\n",
    "frac_chng_t   = calc_fracchng(t_diff_nov, t_control_nov)"
   ]
  },
  {
   "cell_type": "code",
   "execution_count": null,
   "metadata": {},
   "outputs": [],
   "source": [
    "frac_chng_t.values"
   ]
  },
  {
   "cell_type": "code",
   "execution_count": null,
   "metadata": {},
   "outputs": [],
   "source": [
    "# Compute spatially averaged fractional change for Dec\n",
    "frac_chng_t_dec   = calc_fracchng(t_diff_dec, t_control_dec)"
   ]
  },
  {
   "cell_type": "code",
   "execution_count": null,
   "metadata": {},
   "outputs": [],
   "source": [
    "frac_chng_t_dec.values"
   ]
  },
  {
   "cell_type": "code",
   "execution_count": null,
   "metadata": {},
   "outputs": [],
   "source": [
    "plot_cesm(t_diff_nov, t_diff_nov.coords['lat'], t_diff_nov.coords['lon'], vmin=-3.7, vmax=3.7, interval=0.57, ticks=[-3.7,-2,0,2,3.7],\n",
    "          cblabel='Temperature difference (K)', month='NOV', cmap=matplotlib.colors.LinearSegmentedColormap.from_list(\"\", [\"#131DBF\",\"white\",\"#C91717\"]), outfile='diff_t_nov')"
   ]
  },
  {
   "cell_type": "code",
   "execution_count": null,
   "metadata": {},
   "outputs": [],
   "source": [
    "plot_cesm(t_diff_dec, t_diff_dec.coords['lat'], t_diff_dec.coords['lon'], vmin=-3.7, vmax=3.7, interval=0.57, ticks=[-3.7,-2,0,2,3.7],\n",
    "          cblabel='Temperature difference (K)', month='DEC', cmap=matplotlib.colors.LinearSegmentedColormap.from_list(\"\", [\"#131DBF\",\"white\",\"#C91717\"]), outfile='diff_t_dec')"
   ]
  },
  {
   "cell_type": "markdown",
   "metadata": {},
   "source": [
    "# Plot LH results"
   ]
  },
  {
   "cell_type": "code",
   "execution_count": null,
   "metadata": {},
   "outputs": [],
   "source": [
    "# Read LH control and dry output\n",
    "lh_control = read_cesm(top_dir + 'FHIST_SP_control/lnd/hist/FHIST_SP_control.clm2.h0.1979-2003.nc', 'EFLX_LH_TOT')\n",
    "lh_dry     = read_cesm(top_dir + 'FHIST_SP_dry/lnd/hist/FHIST_SP_dry.clm2.h0.1979-2003.nc', 'EFLX_LH_TOT', chop = False)"
   ]
  },
  {
   "cell_type": "code",
   "execution_count": null,
   "metadata": {},
   "outputs": [],
   "source": [
    "# Calculate difference and take mean over all years \n",
    "lh_diff_oct, lh_diff_nov, lh_diff_dec = means_and_diff(lh_control, lh_dry)"
   ]
  },
  {
   "cell_type": "code",
   "execution_count": null,
   "metadata": {},
   "outputs": [],
   "source": [
    "# Get control data for Nov and take mean over all years\n",
    "lh_control_nov = lh_control.sel(time=lh_control.time.dt.month==11)\n",
    "lh_control_nov = lh_control_nov.mean(dim='time')"
   ]
  },
  {
   "cell_type": "code",
   "execution_count": null,
   "metadata": {},
   "outputs": [],
   "source": [
    "# Get control data for Dec and take mean over all years\n",
    "lh_control_dec = lh_control.sel(time=lh_control.time.dt.month==12)\n",
    "lh_control_dec = lh_control_dec.mean(dim='time')"
   ]
  },
  {
   "cell_type": "code",
   "execution_count": null,
   "metadata": {},
   "outputs": [],
   "source": [
    "# Calculate spatially averaged LH change for Nov\n",
    "frac_chng_lh = calc_fracchng(lh_diff_nov, lh_control_nov)"
   ]
  },
  {
   "cell_type": "code",
   "execution_count": null,
   "metadata": {},
   "outputs": [],
   "source": [
    "# Calculate spatially averaged LH change for Dec\n",
    "frac_chng_lh_dec = calc_fracchng(lh_diff_dec, lh_control_dec)"
   ]
  },
  {
   "cell_type": "code",
   "execution_count": null,
   "metadata": {},
   "outputs": [],
   "source": [
    "frac_chng_lh_dec.values"
   ]
  },
  {
   "cell_type": "code",
   "execution_count": null,
   "metadata": {},
   "outputs": [],
   "source": [
    "plot_cesm(lh_diff_nov, lh_diff_nov.coords['lat'], lh_diff_nov.coords['lon'], vmin=-95, vmax=95, interval=14.7, ticks=[-95,-51,0,51,95],\n",
    "          cblabel='LH difference ($W/m^2$)', month='NOV', cmap=matplotlib.colors.LinearSegmentedColormap.from_list(\"\", [\"#131DBF\",\"white\",\"#C91717\"]), outfile='diff_lh_nov')"
   ]
  },
  {
   "cell_type": "code",
   "execution_count": null,
   "metadata": {},
   "outputs": [],
   "source": [
    "plot_cesm(lh_diff_dec, lh_diff_dec.coords['lat'], lh_diff_dec.coords['lon'], vmin=-95, vmax=95, interval=14.7, ticks=[-95,-51,0,51,95],\n",
    "          cblabel='LH difference ($W/m^2$)', month='DEC', cmap=matplotlib.colors.LinearSegmentedColormap.from_list(\"\", [\"#131DBF\",\"white\",\"#C91717\"]), outfile='diff_lh_dec')"
   ]
  },
  {
   "cell_type": "markdown",
   "metadata": {},
   "source": [
    "# Plot SH results"
   ]
  },
  {
   "cell_type": "code",
   "execution_count": null,
   "metadata": {},
   "outputs": [],
   "source": [
    "sh_control = read_cesm(top_dir + 'FHIST_SP_control/lnd/hist/FHIST_SP_control.clm2.h0.1979-2003.nc', 'FSH')\n",
    "sh_dry     = read_cesm(top_dir + 'FHIST_SP_dry/lnd/hist/FHIST_SP_dry.clm2.h0.1979-2003.nc', 'FSH', chop = False)"
   ]
  },
  {
   "cell_type": "code",
   "execution_count": null,
   "metadata": {},
   "outputs": [],
   "source": [
    "sh_diff_oct, sh_diff_nov, sh_diff_dec = means_and_diff(sh_control, sh_dry)"
   ]
  },
  {
   "cell_type": "code",
   "execution_count": null,
   "metadata": {},
   "outputs": [],
   "source": [
    "sh_control_nov = sh_control.sel(time=sh_control.time.dt.month==11)\n",
    "sh_control_nov = sh_control_nov.mean(dim='time')"
   ]
  },
  {
   "cell_type": "code",
   "execution_count": null,
   "metadata": {},
   "outputs": [],
   "source": [
    "sh_control_dec = sh_control.sel(time=sh_control.time.dt.month==12)\n",
    "sh_control_dec = sh_control_dec.mean(dim='time')"
   ]
  },
  {
   "cell_type": "code",
   "execution_count": null,
   "metadata": {},
   "outputs": [],
   "source": [
    "frac_chng_sh = calc_fracchng(sh_diff_nov, sh_control_nov)"
   ]
  },
  {
   "cell_type": "code",
   "execution_count": null,
   "metadata": {},
   "outputs": [],
   "source": [
    "frac_chng_sh_dec = calc_fracchng(sh_diff_dec, sh_control_dec)"
   ]
  },
  {
   "cell_type": "code",
   "execution_count": null,
   "metadata": {},
   "outputs": [],
   "source": [
    "frac_chng_sh_dec.values"
   ]
  },
  {
   "cell_type": "code",
   "execution_count": null,
   "metadata": {},
   "outputs": [],
   "source": [
    "plot_cesm(sh_diff_nov, sh_diff_nov.coords['lat'], sh_diff_nov.coords['lon'], vmin=-95, vmax=95, interval=14.7, ticks=[-95,-51,0,51,95],\n",
    "          cblabel='SH difference ($W/m^2$)', month='NOV', cmap=matplotlib.colors.LinearSegmentedColormap.from_list(\"\", [\"#131DBF\",\"white\",\"#C91717\"]), outfile='diff_sh_nov')"
   ]
  },
  {
   "cell_type": "code",
   "execution_count": null,
   "metadata": {},
   "outputs": [],
   "source": [
    "plot_cesm(sh_diff_dec, sh_diff_dec.coords['lat'], sh_diff_dec.coords['lon'], vmin=-95, vmax=95, interval=14.7, ticks=[-95,-51,0,51,95],\n",
    "          cblabel='SH difference ($W/m^2$)', month='DEC', cmap=matplotlib.colors.LinearSegmentedColormap.from_list(\"\", [\"#131DBF\",\"white\",\"#C91717\"]), outfile='diff_sh_dec')"
   ]
  },
  {
   "cell_type": "markdown",
   "metadata": {},
   "source": [
    "# Plot GH and U, V results"
   ]
  },
  {
   "cell_type": "code",
   "execution_count": null,
   "metadata": {},
   "outputs": [],
   "source": [
    "u_control = read_cesm(top_dir + 'FHIST_SP_control/atm/hist/FHIST_SP_control.cam.h0.1979-2003.nc', 'U', plev=850., vinterp = True)\n",
    "u_dry     = read_cesm(top_dir + 'FHIST_SP_dry/atm/hist/FHIST_SP_dry.cam.h0.1979-2003.nc', 'U',  plev=850., vinterp = True)"
   ]
  },
  {
   "cell_type": "code",
   "execution_count": null,
   "metadata": {},
   "outputs": [],
   "source": [
    "v_control = read_cesm(top_dir + 'FHIST_SP_control/atm/hist/FHIST_SP_control.cam.h0.1979-2003.nc', 'V', plev=850., vinterp = True)\n",
    "v_dry     = read_cesm(top_dir + 'FHIST_SP_dry/atm/hist/FHIST_SP_dry.cam.h0.1979-2003.nc', 'V', plev=850., vinterp = True)"
   ]
  },
  {
   "cell_type": "code",
   "execution_count": null,
   "metadata": {},
   "outputs": [],
   "source": [
    "# Exclude bad values\n",
    "u_control = u_control.where(u_control<100)\n",
    "u_dry     = u_dry.where(u_dry<100)\n",
    "v_control = v_control.where(v_control<100)\n",
    "v_dry     = v_dry.where(v_dry<100)"
   ]
  },
  {
   "cell_type": "code",
   "execution_count": null,
   "metadata": {},
   "outputs": [],
   "source": [
    "u_diff_oct, u_diff_nov, u_diff_dec = means_and_diff(u_control, u_dry)\n",
    "v_diff_oct, v_diff_nov, v_diff_dec = means_and_diff(v_control, v_dry)"
   ]
  },
  {
   "cell_type": "code",
   "execution_count": null,
   "metadata": {},
   "outputs": [],
   "source": [
    "gh_control = read_cesm(top_dir + 'FHIST_SP_control/atm/hist/FHIST_SP_control.cam.h0.1979-2003.nc', 'Z3', plev=850., vinterp = True)\n",
    "gh_dry     = read_cesm(top_dir + 'FHIST_SP_dry/atm/hist/FHIST_SP_dry.cam.h0.1979-2003.nc', 'Z3', plev=850., vinterp = True)"
   ]
  },
  {
   "cell_type": "code",
   "execution_count": null,
   "metadata": {},
   "outputs": [],
   "source": [
    "# Exclude bad values\n",
    "gh_control = gh_control.where(gh_control < 10000)\n",
    "gh_dry     = gh_dry.where(gh_dry < 10000)"
   ]
  },
  {
   "cell_type": "code",
   "execution_count": null,
   "metadata": {},
   "outputs": [],
   "source": [
    "gh_diff_oct, gh_diff_nov, gh_diff_dec = means_and_diff(gh_control, gh_dry)"
   ]
  },
  {
   "cell_type": "code",
   "execution_count": null,
   "metadata": {},
   "outputs": [],
   "source": [
    "gh_diff_dec = gh_diff_dec.where(gh_diff_dec < 4)"
   ]
  },
  {
   "cell_type": "code",
   "execution_count": null,
   "metadata": {},
   "outputs": [],
   "source": [
    "plot_cesm(gh_diff_nov, gh_diff_nov.coords['lat'], gh_diff_nov.coords['lon'], vmin=-6.0, vmax=6.0, interval = 0.925, ticks = [-6, -3.2, 0, 3.2, 6],\n",
    "          cblabel='GH difference (m)', month='NOV', cmap=matplotlib.colors.LinearSegmentedColormap.from_list(\"\", [\"#131DBF\",\"white\",\"#C91717\"]), outfile='diff_gh_nov',\n",
    "          winds=True, U=u_diff_nov, V=v_diff_nov, plotnan=True)"
   ]
  },
  {
   "cell_type": "code",
   "execution_count": null,
   "metadata": {},
   "outputs": [],
   "source": [
    "plot_cesm(gh_diff_dec, gh_diff_dec.coords['lat'], gh_diff_dec.coords['lon'], vmin=-6.0, vmax=6.0, interval = 0.925, ticks = [-6, -3.2, 0, 3.2, 6],\n",
    "          cblabel='GH difference (m)', month='DEC', cmap=matplotlib.colors.LinearSegmentedColormap.from_list(\"\", [\"#131DBF\",\"white\",\"#C91717\"]), outfile='diff_gh_dec',\n",
    "          winds=True, U=u_diff_dec, V=v_diff_dec, plotnan=True)"
   ]
  },
  {
   "cell_type": "markdown",
   "metadata": {},
   "source": [
    "# Plot SM results"
   ]
  },
  {
   "cell_type": "code",
   "execution_count": null,
   "metadata": {},
   "outputs": [],
   "source": [
    "sm_control = read_cesm(top_dir + 'FHIST_SP_control/lnd/hist/FHIST_SP_control.clm2.h0.1979-2003.nc', 'H2OSOI', SM=True)\n",
    "sm_dry     = read_cesm(top_dir + 'FHIST_SP_dry/lnd/hist/FHIST_SP_dry.clm2.h0.1979-2003.nc', 'H2OSOI', chop = False, SM=True)"
   ]
  },
  {
   "cell_type": "code",
   "execution_count": null,
   "metadata": {},
   "outputs": [],
   "source": [
    "sm_diff_oct, sm_diff_nov, sm_diff_dec = means_and_diff(sm_control, sm_dry)"
   ]
  },
  {
   "cell_type": "code",
   "execution_count": null,
   "metadata": {},
   "outputs": [],
   "source": [
    "plot_cesm(sm_diff_nov,sm_diff_nov.coords['lat'], sm_diff_nov.coords['lon'], vmin=-0.2, vmax=0.2, interval=0.031, ticks=[-0.2,-0.11,0,0.11,0.2],\n",
    "          cblabel='SM difference ($m^3/m^3$)', month='NOV', cmap=matplotlib.colors.LinearSegmentedColormap.from_list(\"\", [\"#6c3811\",\"white\",\"#21A926\"]), outfile='diff_sm_nov')"
   ]
  },
  {
   "cell_type": "code",
   "execution_count": null,
   "metadata": {},
   "outputs": [],
   "source": [
    "plot_cesm(sm_diff_dec, sm_diff_dec.coords['lat'], sm_diff_dec.coords['lon'], vmin=-0.2, vmax=0.2, interval=0.031, ticks=[-0.2,-0.11,0,0.11,0.2],\n",
    "          cblabel='SM difference ($m^3/m^3$)', month='DEC', cmap=matplotlib.colors.LinearSegmentedColormap.from_list(\"\", [\"#6c3811\",\"white\",\"#21A926\"]), outfile='diff_sm_dec')"
   ]
  },
  {
   "cell_type": "markdown",
   "metadata": {},
   "source": [
    "# Additional GH analysis"
   ]
  },
  {
   "cell_type": "code",
   "execution_count": null,
   "metadata": {},
   "outputs": [],
   "source": [
    "# Define subset for spatial average\n",
    "subset = [298.0,313.0,-34.0,-19.0]"
   ]
  },
  {
   "cell_type": "code",
   "execution_count": null,
   "metadata": {},
   "outputs": [],
   "source": [
    "# Average over lat-lon subsets and take difference\n",
    "gh_control_ext = gh_control.sel(lat = slice(subset[2],subset[3]), lon = slice(subset[0],subset[1]))\n",
    "gh_dry_ext     = gh_dry.sel(lat = slice(subset[2],subset[3]), lon = slice(subset[0],subset[1]))\n",
    "gh_control_ts  = gh_control_ext.mean(dim='lat', skipna=True).mean(dim='lon', skipna=True)\n",
    "gh_dry_ts      = gh_dry_ext.mean(dim='lat').mean(dim='lon')\n",
    "gh_diff_ts     = gh_dry_ts - gh_control_ts"
   ]
  },
  {
   "cell_type": "code",
   "execution_count": null,
   "metadata": {},
   "outputs": [],
   "source": [
    "# Average over lat-lon subsets and take difference\n",
    "t_control_ext  = t_control.sel(lat = slice(subset[2],subset[3]), lon = slice(subset[0],subset[1]))\n",
    "t_dry_ext      = t_dry.sel(lat = slice(subset[2],subset[3]), lon = slice(subset[0],subset[1]))\n",
    "t_control_ts   = t_control_ext.mean(dim='lat', skipna=True).mean(dim='lon', skipna=True)\n",
    "t_dry_ts       = t_dry_ext.mean(dim='lat').mean(dim='lon')\n",
    "t_diff_ts      = t_dry_ts - t_control_ts"
   ]
  },
  {
   "cell_type": "code",
   "execution_count": null,
   "metadata": {},
   "outputs": [],
   "source": [
    "# Get average values for each day averaged over all years\n",
    "gh_diff_ts.coords['monthday'] = (\n",
    "    ('time', ),\n",
    "    pd.MultiIndex.from_arrays([gh_diff_ts.time.dt.month, gh_diff_ts.time.dt.day]))\n",
    "\n",
    "days_gh = gh_diff_ts.groupby('monthday').mean(dim='time')"
   ]
  },
  {
   "cell_type": "code",
   "execution_count": null,
   "metadata": {},
   "outputs": [],
   "source": [
    "t_diff_ts.coords['monthday'] = (\n",
    "    ('time', ),\n",
    "    pd.MultiIndex.from_arrays([t_diff_ts.time.dt.month, t_diff_ts.time.dt.day]))\n",
    "\n",
    "days_t = t_diff_ts.groupby('monthday').mean(dim='time')"
   ]
  },
  {
   "cell_type": "code",
   "execution_count": null,
   "metadata": {},
   "outputs": [],
   "source": [
    "# Plot time series\n",
    "days = np.arange(0,61)\n",
    "\n",
    "fig, ax1 = plt.subplots(figsize = (10,5))\n",
    "\n",
    "ax1.set_xlabel('Days after Nov 1', fontsize = 16)\n",
    "ax1.set_ylabel('850 hPa height difference (m)', fontsize = 16, color = 'darkviolet')\n",
    "#ax1.plot(days,trendpoly_gh(days), '--', color='black', lw=2.5)\n",
    "ax1.plot(days, days_gh[is_nd(days_gh.monthday_level_0).values], color = 'darkviolet', lw = 3)\n",
    "ax1.hlines(0, 0, 60, alpha = 0.7)\n",
    "ax1.vlines(30, -20, 20, alpha = 0.7, linestyles = 'dashed')\n",
    "ax1.set_xlim(0, 60)\n",
    "ax1.set_ylim(-20, 20)\n",
    "ax1.tick_params(axis = 'y', labelcolor = 'darkviolet', labelsize = 14)\n",
    "ax1.tick_params(axis = 'x', labelsize = 14)\n",
    "\n",
    "ax2 = ax1.twinx()  # instantiate a second axes that shares the same x-axis\n",
    "\n",
    "ax2.set_ylabel('2-m temp. difference (K)', fontsize = 16, color = 'lightseagreen')  # we already handled the x-label with ax1\n",
    "#ax2.plot(days,trendpoly_t(days), '--', color='lightgreen', lw=2.5)\n",
    "ax2.plot(days,days_t[is_nd(days_t.monthday_level_0).values], color = 'lightseagreen', lw = 3)\n",
    "ax2.set_ylim(-5, 5)\n",
    "ax2.tick_params(axis = 'y', labelcolor = 'lightseagreen', labelsize = 14)\n",
    "\n",
    "plt.title('Time series of 850 hPa geo. hgt. and 2-m temp. differences\\n Nov 1  to Dec 31', fontsize=20)\n",
    "plt.savefig('gh_t_ts.pdf', dpi=150)\n",
    "plt.show()"
   ]
  },
  {
   "cell_type": "code",
   "execution_count": null,
   "metadata": {},
   "outputs": [],
   "source": [
    "# Get GH vertical profiles for control and dry\n",
    "gh_vert_con = read_cesm(top_dir + 'FHIST_SP_control/atm/hist/FHIST_SP_control.cam.h0.1979-2003.nc', 'Z3', subset, plev=np.arange(225.,925.,25), vinterp=True)\n",
    "gh_vert_dry = read_cesm(top_dir + 'FHIST_SP_dry/atm/hist/FHIST_SP_dry.cam.h0.1979-2003.nc', 'Z3', subset, plev=np.arange(225.,925.,25), vinterp=True)"
   ]
  },
  {
   "cell_type": "code",
   "execution_count": null,
   "metadata": {},
   "outputs": [],
   "source": [
    "# Take difference and mean over all years\n",
    "gh_vert_con = gh_vert_con.mean(dim='lat').mean(dim='lon')\n",
    "gh_vert_dry = gh_vert_dry.mean(dim='lat').mean(dim='lon')\n",
    "gh_vert_diff = gh_vert_dry-gh_vert_con"
   ]
  },
  {
   "cell_type": "code",
   "execution_count": null,
   "metadata": {},
   "outputs": [],
   "source": [
    "# Exclude bad values\n",
    "gh_vert_diff = gh_vert_diff.where(gh_vert_diff < 10000)\n",
    "gh_vert_diff = gh_vert_diff.where(gh_vert_diff > -10000)"
   ]
  },
  {
   "cell_type": "code",
   "execution_count": null,
   "metadata": {},
   "outputs": [],
   "source": [
    "# Get relative difference\n",
    "gh_vert_diff = gh_vert_diff/gh_vert_con"
   ]
  },
  {
   "cell_type": "code",
   "execution_count": null,
   "metadata": {},
   "outputs": [],
   "source": [
    "# Get means for each day of the year\n",
    "gh_vert_diff.coords['monthday'] = (\n",
    "    ('time', ),\n",
    "    pd.MultiIndex.from_arrays([gh_vert_diff.time.dt.month, gh_vert_diff.time.dt.day]))\n",
    "\n",
    "days_gh_vert = gh_vert_diff.groupby('monthday').mean(dim='time')"
   ]
  },
  {
   "cell_type": "code",
   "execution_count": null,
   "metadata": {},
   "outputs": [],
   "source": [
    "Plot vertical profile with time\n",
    "%matplotlib inline\n",
    "sns.set_style('ticks')\n",
    "f2 = plt.figure(figsize=(10,5))\n",
    "cs = plt.contourf(np.arange(0,60), days_gh_vert['lev'], days_gh_vert[306:,:].transpose(),  levels=np.linspace(-0.008,0.008,10), cmap=\"bwr\",\n",
    "                 extend='both', alpha=0.7)\n",
    "plt.gca().invert_yaxis()\n",
    "cb = plt.colorbar(cs, boundaries=(-0.1,0.1), label='Fractional change', format='%4.3f')\n",
    "plt.xlabel('Days after Nov 1', fontsize = 16)\n",
    "plt.ylabel('Pressure (hPa)', fontsize = 16)\n",
    "plt.vlines(30, 900, 225, alpha = 0.7, linestyles = 'dashed')\n",
    "plt.title('Fractional change in geopotential height \\n Nov 1 to Dec 31', fontsize = 20)\n",
    "plt.tick_params(axis = 'y', labelsize = 14)\n",
    "plt.tick_params(axis = 'x', labelsize = 14)\n",
    "cb.ax.tick_params(labelsize=12)\n",
    "cb.set_label(label = 'Fractional change', size = 14)\n",
    "plt.savefig('gh_chng.pdf', dpi=150)\n",
    "plt.show()"
   ]
  },
  {
   "cell_type": "code",
   "execution_count": null,
   "metadata": {},
   "outputs": [],
   "source": []
  }
 ],
 "metadata": {
  "kernelspec": {
   "display_name": "Python 3",
   "language": "python",
   "name": "python3"
  },
  "language_info": {
   "codemirror_mode": {
    "name": "ipython",
    "version": 3
   },
   "file_extension": ".py",
   "mimetype": "text/x-python",
   "name": "python",
   "nbconvert_exporter": "python",
   "pygments_lexer": "ipython3",
   "version": "3.7.5"
  }
 },
 "nbformat": 4,
 "nbformat_minor": 4
}
