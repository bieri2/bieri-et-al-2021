{
 "cells": [
  {
   "cell_type": "code",
   "execution_count": 1,
   "metadata": {},
   "outputs": [],
   "source": [
    "import pandas as pd\n",
    "import numpy as np\n",
    "import xarray as xr\n",
    "import datetime\n",
    "from netCDF4 import Dataset\n",
    "import matplotlib.pyplot as plt\n",
    "from mpl_toolkits.basemap import Basemap"
   ]
  },
  {
   "cell_type": "code",
   "execution_count": 6,
   "metadata": {},
   "outputs": [],
   "source": [
    "# Define function to read MERRA-2 data\n",
    "# \"variable\" argument must correspond to the file name of a particular daily average MERRA-2 file\n",
    "# \"identifier\" argument refers to the MERRA-2 variable name (which may or may not be different)\n",
    "# \"resolution\" refers to temporal resolution and must be either 'D' for daily or 'M' for monthly\n",
    "# \"subset\" is the desired spatial domain for which data will be extracted: [lon1,lon2,lat1,lat2]\n",
    "# \"fourd\" should be set to True for 4-dimensional data (time,lev,lat,lon)\n",
    "# Author: Carolina Bieri (bieri2@illinois.edu)\n",
    "\n",
    "def get_MERRA2_time_avg(variable, identifier, resolution, subset=[-120.0,30.0,-80.0,20.0], fourd=False):\n",
    "    # Define location of MERRA-2 files\n",
    "    MERRA2_dir = '/glade/work/cab478/MERRA/day/'\n",
    "    # Get file name of individual file containing daily averaged data from 1980 to 2016\n",
    "    filename   = MERRA2_dir + 'MERRA_daily_avg_' + identifier + '_1980_2016.nc'\n",
    "    print(filename)\n",
    "    \n",
    "    # Open file\n",
    "    ds = Dataset(filename)  \n",
    "    \n",
    "    # Define date range from 1980 to 2016\n",
    "    date_rng   = pd.date_range(start='1/1/1980', end='12/31/2016', freq='D')\n",
    "\n",
    "    # Convert lat and lon arrays to Series\n",
    "    lat = pd.Series(ds.variables['lat'][:])\n",
    "    lon = pd.Series(ds.variables['lon'][:])\n",
    "    \n",
    "    # Slice lat and lon arrays according to desired domain\n",
    "    lat_slice = lat[(lat>subset[2])&(lat<subset[3])].index.tolist()\n",
    "    lon_slice = lon[(lon>subset[0])&(lon<subset[1])].index.tolist()\n",
    "    \n",
    "    # Extract variable from file within the desired spatial domain\n",
    "    if fourd:\n",
    "        var = np.squeeze(ds.variables[variable][:,0,lat_slice,lon_slice])\n",
    "    else:\n",
    "        var = ds.variables[variable][:,lat_slice,lon_slice]\n",
    "    \n",
    "    # Set missing data to NaNs\n",
    "    var[var==ds.variables[variable]._FillValue] = np.NaN\n",
    "    \n",
    "    # Define xarray Data Array to hold data and metadata\n",
    "    array = xr.DataArray(var, coords={'time':date_rng,'lat':np.array(lat[lat_slice].values), \n",
    "                                    'lon':np.array(lon[lon_slice].values)}, dims=['time','lat','lon'])\n",
    "\n",
    "    # Resample the time dimension if monthly values are desired and calculate mean values\n",
    "    if resolution == 'D':\n",
    "        final = array\n",
    "    else:\n",
    "        final = array.resample(time=resolution).mean(dim='time')\n",
    "      \n",
    "    # PLot first time step to check data\n",
    "    fig = plt.figure(figsize=(10, 6), edgecolor='w')\n",
    "    m   = Basemap(projection='cyl',\n",
    "                llcrnrlat=-90, urcrnrlat=90,\n",
    "                llcrnrlon=-180, urcrnrlon=180)\n",
    "    lon, lat = np.meshgrid(final.coords['lon'].values,final.coords['lat'].values)\n",
    "    m.pcolormesh(lon, lat, final[0,:,:],\n",
    "             latlon=True, cmap='plasma')\n",
    "    m.drawcoastlines()\n",
    "    plt.colorbar()\n",
    "    plt.show() \n",
    "        \n",
    "    return final"
   ]
  },
  {
   "cell_type": "code",
   "execution_count": null,
   "metadata": {},
   "outputs": [],
   "source": []
  }
 ],
 "metadata": {
  "kernelspec": {
   "display_name": "Python 3",
   "language": "python",
   "name": "python3"
  },
  "language_info": {
   "codemirror_mode": {
    "name": "ipython",
    "version": 3
   },
   "file_extension": ".py",
   "mimetype": "text/x-python",
   "name": "python",
   "nbconvert_exporter": "python",
   "pygments_lexer": "ipython3",
   "version": "3.6.8"
  }
 },
 "nbformat": 4,
 "nbformat_minor": 4
}
